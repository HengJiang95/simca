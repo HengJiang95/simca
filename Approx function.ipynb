{
 "cells": [
  {
   "cell_type": "code",
   "execution_count": 1,
   "id": "98a1aec7",
   "metadata": {
    "tags": []
   },
   "outputs": [],
   "source": [
    "import yaml\n",
    "import pprint\n",
    "from Dimensionner import Dimensionner\n",
    "import matplotlib.pyplot as plt\n",
    "\n",
    "\n",
    "def load_config(file_name):\n",
    "    if file_name:\n",
    "        with open(file_name, 'r') as file:\n",
    "            config = yaml.safe_load(file)\n",
    "    return config\n"
   ]
  },
  {
   "cell_type": "code",
   "execution_count": 2,
   "id": "1f29ae2d",
   "metadata": {
    "tags": []
   },
   "outputs": [],
   "source": [
    "config = load_config(\"init_config.yml\")"
   ]
  },
  {
   "cell_type": "code",
   "execution_count": 3,
   "id": "da9b4eda",
   "metadata": {
    "tags": []
   },
   "outputs": [
    {
     "name": "stdout",
     "output_type": "stream",
     "text": [
      "{'DMD': {'micromirror size': 5.4,\n",
      "         'number of micromirrors across dispersion': 500,\n",
      "         'number of micromirrors along dispersion': 1500},\n",
      " 'camera': {'number of pixels across dispersion': 37,\n",
      "            'number of pixels along dispersion': 55,\n",
      "            'pixel size': 200},\n",
      " 'infos': {'results directory': './dimensionning_results',\n",
      "           'system name': 'HYACAMEO'},\n",
      " 'spectral range': {'wavelength center': 550,\n",
      "                    'wavelength max': 750,\n",
      "                    'wavelength min': 450},\n",
      " 'system architecture': {'dispersive element 1': {'A': 60,\n",
      "                                                  'G': 160,\n",
      "                                                  'delta alpha c': 0,\n",
      "                                                  'delta beta c': 0,\n",
      "                                                  'm': 1,\n",
      "                                                  'type': 'prism'},\n",
      "                         'focal lens 1': 165000,\n",
      "                         'focal lens 2': 165000}}\n"
     ]
    }
   ],
   "source": [
    "pprint.pprint(config)"
   ]
  },
  {
   "cell_type": "code",
   "execution_count": 4,
   "id": "e49e920b",
   "metadata": {
    "tags": []
   },
   "outputs": [],
   "source": [
    "spectral_samples = 10\n",
    "config[\"spectral_samples\"] = spectral_samples"
   ]
  },
  {
   "cell_type": "code",
   "execution_count": 5,
   "id": "81100d2c",
   "metadata": {
    "tags": []
   },
   "outputs": [],
   "source": [
    "dimensionner = Dimensionner(config)"
   ]
  },
  {
   "cell_type": "code",
   "execution_count": 6,
   "id": "b0b26652",
   "metadata": {
    "tags": []
   },
   "outputs": [
    {
     "name": "stdout",
     "output_type": "stream",
     "text": [
      "0.6771566685400001\n"
     ]
    }
   ],
   "source": [
    "list_X_dmd, list_Y_dmd, list_wavelengths = dimensionner.propagate()"
   ]
  },
  {
   "cell_type": "code",
   "execution_count": 7,
   "id": "f60652e2",
   "metadata": {
    "tags": []
   },
   "outputs": [],
   "source": [
    "X_cam = dimensionner.X_cam\n",
    "Y_cam = dimensionner.Y_cam"
   ]
  },
  {
   "cell_type": "code",
   "execution_count": 8,
   "id": "67ceff20",
   "metadata": {
    "tags": []
   },
   "outputs": [
    {
     "data": {
      "text/plain": [
       "<matplotlib.collections.PathCollection at 0x7f827d10fb80>"
      ]
     },
     "execution_count": 8,
     "metadata": {},
     "output_type": "execute_result"
    },
    {
     "data": {
      "image/png": "[encoded data removed]",
      "text/plain": [
       "<Figure size 640x480 with 1 Axes>"
      ]
     },
     "metadata": {},
     "output_type": "display_data"
    }
   ],
   "source": [
    "plt.scatter(X_cam,Y_cam)"
   ]
  },
  {
   "cell_type": "code",
   "execution_count": 9,
   "id": "fdb773d3",
   "metadata": {
    "tags": []
   },
   "outputs": [],
   "source": [
    "from utils.functions_retropropagating import *"
   ]
  },
  {
   "cell_type": "code",
   "execution_count": 10,
   "id": "e93c48a2",
   "metadata": {
    "tags": []
   },
   "outputs": [],
   "source": [
    "import jax.numpy as np\n",
    "from jax import grad, jacfwd\n",
    "\n",
    "\n",
    "\n",
    "\n"
   ]
  },
  {
   "cell_type": "code",
   "execution_count": 11,
   "id": "29b35f45",
   "metadata": {
    "tags": []
   },
   "outputs": [],
   "source": [
    "F = dimensionner.config[\"system architecture\"][\"focal lens 1\"]\n",
    "A = dimensionner.config[\"system architecture\"][\"dispersive element 1\"][\"A\"]\n",
    "alpha_c = dimensionner.alpha_c\n",
    "delta_alpha_c = dimensionner.config[\"system architecture\"][\"dispersive element 1\"][\"delta alpha c\"]\n",
    "delta_beta_c = dimensionner.config[\"system architecture\"][\"dispersive element 1\"][\"delta beta c\"]"
   ]
  },
  {
   "cell_type": "code",
   "execution_count": 12,
   "id": "86bd75d9",
   "metadata": {
    "tags": []
   },
   "outputs": [
    {
     "name": "stdout",
     "output_type": "stream",
     "text": [
      "(3, 1) (3, 1)\n"
     ]
    },
    {
     "data": {
      "text/plain": [
       "(array([91946.71135809]), array([4233.35003155]))"
      ]
     },
     "execution_count": 12,
     "metadata": {},
     "output_type": "execute_result"
    }
   ],
   "source": [
    "propagate_through_arm_scalar(X_cam[0,0],Y_cam[0,0],1.518,A,F,alpha_c, delta_alpha_c,delta_beta_c)"
   ]
  },
  {
   "cell_type": "code",
   "execution_count": null,
   "id": "a0804625",
   "metadata": {},
   "outputs": [],
   "source": []
  },
  {
   "cell_type": "code",
   "execution_count": 13,
   "id": "f6bb9a75",
   "metadata": {
    "tags": []
   },
   "outputs": [
    {
     "name": "stderr",
     "output_type": "stream",
     "text": [
      "No GPU/TPU found, falling back to CPU. (Set TF_CPP_MIN_LOG_LEVEL=0 and rerun for more info.)\n"
     ]
    },
    {
     "name": "stdout",
     "output_type": "stream",
     "text": [
      "(3, 1) (3, 1)\n",
      "[[-9.4327980e-01  2.8800765e-02 -2.4703403e+05]\n",
      " [ 5.2754469e-05 -9.9996269e-01 -1.8171890e+02]]\n",
      "(3, 1) (3, 1)\n",
      "(2, 3)\n",
      "(2,)\n",
      "[5617.0044 3750.1226]\n",
      "(3, 1) (3, 1)\n",
      "[[5616.8896]\n",
      " [3750.128 ]]\n"
     ]
    }
   ],
   "source": [
    "jacobian_propagate = jacfwd(dimensionner.propagate_through_arm_scalar_no_params)\n",
    "\n",
    "X_cam_float = np.float32(X_cam[0,0])\n",
    "Y_cam_float = np.float32(Y_cam[0,0])\n",
    "A_float = np.float32(A)\n",
    "F_float = np.float32(F)\n",
    "alpha_c_float = np.float32(alpha_c)\n",
    "delta_alpha_c_float = np.float32(delta_alpha_c)\n",
    "delta_beta_c_float = np.float32(delta_beta_c)\n",
    "\n",
    "jacobian_at_x0 = np.array(jacobian_propagate((X_cam_float,Y_cam_float,1.518)))[:,:,0]\n",
    "\n",
    "print(jacobian_at_x0)\n",
    "\n",
    "\n",
    "# Use the Jacobian matrix to approximate the function's values at a new point\n",
    "X_cam_new = X_cam_float + 50\n",
    "Y_cam_new = Y_cam_float - 50\n",
    "n_new = 1.518 -0.001\n",
    "\n",
    "x0 = np.array([X_cam_float,Y_cam_float,1.518])\n",
    "x_new = np.array([X_cam_new,Y_cam_new,n_new])\n",
    "\n",
    "f_x0 = np.array(dimensionner.propagate_through_arm_scalar_no_params(x0))\n",
    "delta_x = x_new - x0\n",
    "\n",
    "print(jacobian_at_x0.shape)\n",
    "print(np.dot(jacobian_at_x0, delta_x).shape)\n",
    "\n",
    "\n",
    "approx_f_x_new = f_x0[:,0] + np.dot(jacobian_at_x0, delta_x)\n",
    "\n",
    "\n",
    "print(approx_f_x_new)\n",
    "\n",
    "f_x0_delta = np.array(dimensionner.propagate_through_arm_scalar_no_params(x_new))\n",
    "print(f_x0_delta)"
   ]
  },
  {
   "cell_type": "code",
   "execution_count": 14,
   "id": "bc566c9b",
   "metadata": {
    "tags": []
   },
   "outputs": [
    {
     "name": "stdout",
     "output_type": "stream",
     "text": [
      "(3, 1, 2035) (3, 2035)\n"
     ]
    }
   ],
   "source": [
    "jacobian_propagate2 = jacfwd(dimensionner.propagate_through_arm_vector_no_params)\n",
    "\n",
    "X_cam_float = np.float32(X_cam).flatten()\n",
    "Y_cam_float = np.float32(Y_cam).flatten()\n",
    "n_array_float = np.full(X_cam.shape,sellmeier(580)).flatten()\n",
    "A_float = np.float32(A)\n",
    "F_float = np.float32(F)\n",
    "alpha_c_float = np.float32(alpha_c)\n",
    "delta_alpha_c_float = np.float32(delta_alpha_c)\n",
    "delta_beta_c_float = np.float32(delta_beta_c)\n",
    "\n",
    "jacobian_at_x0 = np.array(jacobian_propagate2((X_cam_float,Y_cam_float,n_array_float)))[:,:,0]"
   ]
  },
  {
   "cell_type": "code",
   "execution_count": 15,
   "id": "c596dffd",
   "metadata": {
    "tags": []
   },
   "outputs": [
    {
     "name": "stdout",
     "output_type": "stream",
     "text": [
      "(2, 3, 2035)\n"
     ]
    }
   ],
   "source": [
    "print(jacobian_at_x0.shape)"
   ]
  },
  {
   "cell_type": "code",
   "execution_count": 16,
   "id": "f93bb38d",
   "metadata": {
    "tags": []
   },
   "outputs": [
    {
     "name": "stdout",
     "output_type": "stream",
     "text": [
      "(3, 1, 2035) (3, 2035)\n",
      "(2, 3, 2035) (3, 2035)\n",
      "(3, 1, 2035) (2, 3, 2035)\n",
      "(3, 1, 2035) (3, 2035)\n",
      "[[ 5833.4854  5641.3955  5448.9277 ... -4716.241  -4931.089  -5146.46  ]\n",
      " [ 3750.2983  3750.2961  3750.2937 ... -3649.718  -3649.7144 -3649.711 ]]\n"
     ]
    }
   ],
   "source": [
    "# Use the Jacobian matrix to approximate the function's values at a new point\n",
    "X_cam_new = X_cam_float + 50\n",
    "Y_cam_new = Y_cam_float - 50\n",
    "n_new = n_array_float -0.001\n",
    "\n",
    "x0 = np.array([X_cam_float,Y_cam_float,n_array_float])\n",
    "x_new = np.array([X_cam_new,Y_cam_new,n_new])\n",
    "\n",
    "f_x0 = np.array(dimensionner.propagate_through_arm_vector_no_params(x0))\n",
    "delta_x = x_new - x0\n",
    "\n",
    "\n",
    "print(jacobian_at_x0.shape,delta_x.shape)\n",
    "# Add an extra dimension to delta_x\n",
    "delta_x = np.expand_dims(delta_x, axis=1)  # shape is now (3, 1, 2035)\n",
    "\n",
    "print(delta_x.shape,jacobian_at_x0.shape)\n",
    "# Perform the dot product\n",
    "approx_f_x_new = f_x0 + np.einsum('ijk,jik->ik', jacobian_at_x0, delta_x)\n",
    "\n",
    "f_x0_delta = np.array(dimensionner.propagate_through_arm_vector_no_params(x_new))\n",
    "print(f_x0_delta)"
   ]
  },
  {
   "cell_type": "code",
   "execution_count": 17,
   "id": "86c0b548",
   "metadata": {
    "tags": []
   },
   "outputs": [
    {
     "ename": "SyntaxError",
     "evalue": "invalid syntax (2956996683.py, line 1)",
     "output_type": "error",
     "traceback": [
      "\u001b[0;36m  Cell \u001b[0;32mIn[17], line 1\u001b[0;36m\u001b[0m\n\u001b[0;31m    plt.scatter(X_cam_float.reshape(,Y_cam_float)\u001b[0m\n\u001b[0m                                    ^\u001b[0m\n\u001b[0;31mSyntaxError\u001b[0m\u001b[0;31m:\u001b[0m invalid syntax\n"
     ]
    }
   ],
   "source": []
  },
  {
   "cell_type": "code",
   "execution_count": null,
   "id": "245359f5-7abd-4257-83a2-e4fb63e9485c",
   "metadata": {},
   "outputs": [],
   "source": []
  }
 ],
 "metadata": {
  "kernelspec": {
   "display_name": "Python 3 (ipykernel)",
   "language": "python",
   "name": "python3"
  },
  "language_info": {
   "codemirror_mode": {
    "name": "ipython",
    "version": 3
   },
   "file_extension": ".py",
   "mimetype": "text/x-python",
   "name": "python",
   "nbconvert_exporter": "python",
   "pygments_lexer": "ipython3",
   "version": "3.9.16"
  }
 },
 "nbformat": 4,
 "nbformat_minor": 5
}
